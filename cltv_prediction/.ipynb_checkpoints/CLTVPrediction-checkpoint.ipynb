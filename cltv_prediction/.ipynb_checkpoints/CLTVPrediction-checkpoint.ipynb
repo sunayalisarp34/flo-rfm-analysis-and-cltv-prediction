{
 "cells": [
  {
   "cell_type": "markdown",
   "id": "453321a2-591f-4a2a-beab-bcc255b89a32",
   "metadata": {},
   "source": [
    "# 1. İş Problemi ve Veri Seti Hikayesi"
   ]
  },
  {
   "cell_type": "markdown",
   "id": "febf5ff3-e38e-4f62-bd83-0692fd3bb40b",
   "metadata": {},
   "source": [
    "## İş Problemi"
   ]
  },
  {
   "cell_type": "markdown",
   "id": "09f76d56-2250-4050-830d-b8be9044f6f8",
   "metadata": {},
   "source": [
    "FLO satış ve pazarlama faaliyetleri için roadmap belirlemek istemektedir.\n",
    "Şirketin orta uzun vadeli plan yapabilmesi için var olan müşterilerin gelecekte şirkete sağlayacakları potansiyel değerin tahmin edilmesi gerekmektedir.\n"
   ]
  },
  {
   "cell_type": "markdown",
   "id": "9de21a01-2361-4303-a6dd-03ade9c0f4e0",
   "metadata": {},
   "source": [
    "## Veri Seti Hikayesi"
   ]
  },
  {
   "cell_type": "markdown",
   "id": "f4f0c6b9-9b64-4774-b4c3-a262323501d6",
   "metadata": {},
   "source": [
    "Veri seti son alışverişlerini 2020 - 2021 yıllarında OmniChannel(hem online hem offline alışveriş yapan) olarak yapan müşterilerin geçmiş alışveriş davranışlarından\n",
    "elde edilen bilgilerden oluşmaktadır."
   ]
  },
  {
   "cell_type": "markdown",
   "id": "38508cc0-70d1-44e1-b597-019c1d954ba4",
   "metadata": {},
   "source": [
    "## Değişkenler"
   ]
  },
  {
   "cell_type": "markdown",
   "id": "185a224b-741b-442a-bd28-689a7df7be20",
   "metadata": {},
   "source": [
    "- master_id: Eşsiz müşteri numarası\n",
    "- order_channel : Alışveriş yapılan platforma ait hangi kanalın kullanıldığı (Android, ios, Desktop, Mobile, Offline)\n",
    "- last_order_channel : En son alışverişin yapıldığı kanal\n",
    "- first_order_date : Müşterinin yaptığı ilk alışveriş tarihi\n",
    "- last_order_date : Müşterinin yaptığı son alışveriş tarihi\n",
    "- last_order_date_online : Muşterinin online platformda yaptığı son alışveriş tarihi\n",
    "- last_order_date_offline : Muşterinin offline platformda yaptığı son alışveriş tarihi\n",
    "- order_num_total_ever_online : Müşterinin online platformda yaptığı toplam alışveriş sayısı\n",
    "- order_num_total_ever_offline : Müşterinin offline'da yaptığı toplam alışveriş sayısı\n",
    "- customer_value_total_ever_offline : Müşterinin offline alışverişlerinde ödediği toplam ücret\n",
    "- customer_value_total_ever_online : Müşterinin online alışverişlerinde ödediği toplam ücret\n",
    "- interested_in_categories_12 : Müşterinin son 12 ayda alışveriş yaptığı kategorilerin listesi\n"
   ]
  },
  {
   "cell_type": "markdown",
   "id": "6b48262a-5f61-4865-b4cb-b86ac0b57645",
   "metadata": {},
   "source": [
    "# 2. Veriyi Hazılama"
   ]
  },
  {
   "cell_type": "code",
   "execution_count": 10,
   "id": "c8fc9377-0049-48e8-8fcb-e14871f83b2d",
   "metadata": {},
   "outputs": [],
   "source": [
    "import pandas as pd\n",
    "import datetime as dt\n",
    "from lifetimes import BetaGeoFitter\n",
    "from lifetimes import GammaGammaFitter\n",
    "from sklearn.preprocessing import MinMaxScaler\n",
    "pd.set_option('display.max_columns', None)\n",
    "pd.set_option('display.max_rows', None)\n",
    "pd.set_option('display.float_format', lambda x: '%.2f' % x)\n",
    "pd.options.mode.chained_assignment = None"
   ]
  },
  {
   "cell_type": "code",
   "execution_count": 14,
   "id": "0b23447f-68cd-41cf-9e4f-d09179c908b7",
   "metadata": {},
   "outputs": [],
   "source": [
    "df_ = pd.read_csv(\"flo_data_20k.csv\")"
   ]
  },
  {
   "cell_type": "code",
   "execution_count": 16,
   "id": "c98970f2-1bc7-4dc4-9d51-808385e96452",
   "metadata": {},
   "outputs": [],
   "source": [
    "df = df_.copy()"
   ]
  },
  {
   "cell_type": "code",
   "execution_count": 18,
   "id": "24cfb152-a1d5-4ff5-b0b4-7af137c10e9e",
   "metadata": {},
   "outputs": [],
   "source": [
    "# helper functions\n",
    "def outlier_thresholds(dataframe, variable):\n",
    "    quartile1 = dataframe[variable].quantile(0.01)\n",
    "    quartile3 = dataframe[variable].quantile(0.99)\n",
    "    interquantile_range = quartile3 - quartile1\n",
    "    up_limit = quartile3 + 1.5 * interquantile_range\n",
    "    low_limit = quartile1 - 1.5 * interquantile_range\n",
    "    return low_limit, up_limit\n",
    "\n",
    "def replace_with_thresholds(dataframe, variable):\n",
    "    low_limit, up_limit = outlier_thresholds(dataframe, variable)\n",
    "    dataframe.loc[(dataframe[variable] < low_limit), variable] = round(low_limit,0)\n",
    "    dataframe.loc[(dataframe[variable] > up_limit), variable] = round(up_limit,0)\n"
   ]
  },
  {
   "cell_type": "code",
   "execution_count": 20,
   "id": "3617e9a8-d577-45a7-8403-9b715a24add8",
   "metadata": {},
   "outputs": [],
   "source": [
    "# outlier detection and suppression\n",
    "columns = [\"order_num_total_ever_online\", \"order_num_total_ever_offline\", \"customer_value_total_ever_offline\",\"customer_value_total_ever_online\"]\n",
    "for col in columns:\n",
    "    replace_with_thresholds(df, col)"
   ]
  },
  {
   "cell_type": "code",
   "execution_count": 22,
   "id": "c977b2cb-db89-40e2-a058-42a0ec461700",
   "metadata": {},
   "outputs": [],
   "source": [
    "df[\"order_num_total\"] = df[\"order_num_total_ever_online\"] + df[\"order_num_total_ever_offline\"]\n",
    "df[\"customer_value_total\"] = df[\"customer_value_total_ever_offline\"] + df[\"customer_value_total_ever_online\"]"
   ]
  },
  {
   "cell_type": "code",
   "execution_count": 24,
   "id": "bd350d00-539e-42d6-bcf7-27206e6b7f65",
   "metadata": {},
   "outputs": [],
   "source": [
    "date_columns = df.columns[df.columns.str.contains(\"date\")]\n",
    "df[date_columns] = df[date_columns].apply(pd.to_datetime)"
   ]
  },
  {
   "cell_type": "code",
   "execution_count": 26,
   "id": "b731888e-26d0-4252-ada9-217e67cf4047",
   "metadata": {},
   "outputs": [
    {
     "name": "stdout",
     "output_type": "stream",
     "text": [
      "<class 'pandas.core.frame.DataFrame'>\n",
      "RangeIndex: 19945 entries, 0 to 19944\n",
      "Data columns (total 14 columns):\n",
      " #   Column                             Non-Null Count  Dtype         \n",
      "---  ------                             --------------  -----         \n",
      " 0   master_id                          19945 non-null  object        \n",
      " 1   order_channel                      19945 non-null  object        \n",
      " 2   last_order_channel                 19945 non-null  object        \n",
      " 3   first_order_date                   19945 non-null  datetime64[ns]\n",
      " 4   last_order_date                    19945 non-null  datetime64[ns]\n",
      " 5   last_order_date_online             19945 non-null  datetime64[ns]\n",
      " 6   last_order_date_offline            19945 non-null  datetime64[ns]\n",
      " 7   order_num_total_ever_online        19945 non-null  float64       \n",
      " 8   order_num_total_ever_offline       19945 non-null  float64       \n",
      " 9   customer_value_total_ever_offline  19945 non-null  float64       \n",
      " 10  customer_value_total_ever_online   19945 non-null  float64       \n",
      " 11  interested_in_categories_12        19945 non-null  object        \n",
      " 12  order_num_total                    19945 non-null  float64       \n",
      " 13  customer_value_total               19945 non-null  float64       \n",
      "dtypes: datetime64[ns](4), float64(6), object(4)\n",
      "memory usage: 2.1+ MB\n"
     ]
    }
   ],
   "source": [
    "df.info()"
   ]
  },
  {
   "cell_type": "markdown",
   "id": "ac9373c8-312c-4319-8688-fcef05a033f3",
   "metadata": {},
   "source": [
    "# 2. CLTV Veri Seti Oluşturma"
   ]
  },
  {
   "cell_type": "code",
   "execution_count": 29,
   "id": "28bd62bb-d1fb-4908-8324-ff7b6ef62525",
   "metadata": {},
   "outputs": [],
   "source": [
    "# reference date\n",
    "df[\"last_order_date\"].max()\n",
    "analysis_date = dt.datetime(2021,6,1)"
   ]
  },
  {
   "cell_type": "code",
   "execution_count": 39,
   "id": "909b9b2a-6bfc-4f72-bcbd-78b1e7fd2640",
   "metadata": {},
   "outputs": [],
   "source": [
    "df[\"last_order_date\"] = pd.to_datetime(df[\"last_order_date\"])\n",
    "df[\"first_order_date\"] = pd.to_datetime(df[\"first_order_date\"])"
   ]
  },
  {
   "cell_type": "code",
   "execution_count": 41,
   "id": "09df39e7-1758-4bc0-9094-f1b910e40785",
   "metadata": {},
   "outputs": [
    {
     "name": "stdout",
     "output_type": "stream",
     "text": [
      "<class 'pandas.core.frame.DataFrame'>\n",
      "RangeIndex: 19945 entries, 0 to 19944\n",
      "Data columns (total 14 columns):\n",
      " #   Column                             Non-Null Count  Dtype         \n",
      "---  ------                             --------------  -----         \n",
      " 0   master_id                          19945 non-null  object        \n",
      " 1   order_channel                      19945 non-null  object        \n",
      " 2   last_order_channel                 19945 non-null  object        \n",
      " 3   first_order_date                   19945 non-null  datetime64[ns]\n",
      " 4   last_order_date                    19945 non-null  datetime64[ns]\n",
      " 5   last_order_date_online             19945 non-null  datetime64[ns]\n",
      " 6   last_order_date_offline            19945 non-null  datetime64[ns]\n",
      " 7   order_num_total_ever_online        19945 non-null  float64       \n",
      " 8   order_num_total_ever_offline       19945 non-null  float64       \n",
      " 9   customer_value_total_ever_offline  19945 non-null  float64       \n",
      " 10  customer_value_total_ever_online   19945 non-null  float64       \n",
      " 11  interested_in_categories_12        19945 non-null  object        \n",
      " 12  order_num_total                    19945 non-null  float64       \n",
      " 13  customer_value_total               19945 non-null  float64       \n",
      "dtypes: datetime64[ns](4), float64(6), object(4)\n",
      "memory usage: 2.1+ MB\n"
     ]
    }
   ],
   "source": [
    "df.info()"
   ]
  },
  {
   "cell_type": "code",
   "execution_count": 43,
   "id": "bf67dc3d-9a06-4f60-bdc9-57d084f6c7f1",
   "metadata": {},
   "outputs": [],
   "source": [
    "cltv_df = pd.DataFrame()\n",
    "cltv_df[\"customer_id\"] = df[\"master_id\"]\n",
    "cltv_df[\"recency_cltv_weekly\"] = (df[\"last_order_date\"] - df[\"first_order_date\"]).dt.days / 7\n",
    "cltv_df[\"T_weekly\"] = (analysis_date - df[\"first_order_date\"]).dt.days / 7\n",
    "cltv_df[\"frequency\"] = df[\"order_num_total\"]\n",
    "cltv_df[\"monetary_cltv_avg\"] = df[\"customer_value_total\"] / df[\"order_num_total\"]"
   ]
  },
  {
   "cell_type": "code",
   "execution_count": 45,
   "id": "d0126768-a9b2-47ad-bebc-e35d6b962974",
   "metadata": {},
   "outputs": [
    {
     "name": "stdout",
     "output_type": "stream",
     "text": [
      "<class 'pandas.core.frame.DataFrame'>\n",
      "RangeIndex: 19945 entries, 0 to 19944\n",
      "Data columns (total 5 columns):\n",
      " #   Column               Non-Null Count  Dtype  \n",
      "---  ------               --------------  -----  \n",
      " 0   customer_id          19945 non-null  object \n",
      " 1   recency_cltv_weekly  19945 non-null  float64\n",
      " 2   T_weekly             19945 non-null  float64\n",
      " 3   frequency            19945 non-null  float64\n",
      " 4   monetary_cltv_avg    19945 non-null  float64\n",
      "dtypes: float64(4), object(1)\n",
      "memory usage: 779.2+ KB\n"
     ]
    }
   ],
   "source": [
    "cltv_df.info()"
   ]
  },
  {
   "cell_type": "code",
   "execution_count": 49,
   "id": "f0848b60-8a2e-40e8-9976-6e0dbcfe5bcc",
   "metadata": {},
   "outputs": [
    {
     "data": {
      "text/html": [
       "<div>\n",
       "<style scoped>\n",
       "    .dataframe tbody tr th:only-of-type {\n",
       "        vertical-align: middle;\n",
       "    }\n",
       "\n",
       "    .dataframe tbody tr th {\n",
       "        vertical-align: top;\n",
       "    }\n",
       "\n",
       "    .dataframe thead th {\n",
       "        text-align: right;\n",
       "    }\n",
       "</style>\n",
       "<table border=\"1\" class=\"dataframe\">\n",
       "  <thead>\n",
       "    <tr style=\"text-align: right;\">\n",
       "      <th></th>\n",
       "      <th>count</th>\n",
       "      <th>mean</th>\n",
       "      <th>std</th>\n",
       "      <th>min</th>\n",
       "      <th>25%</th>\n",
       "      <th>50%</th>\n",
       "      <th>75%</th>\n",
       "      <th>max</th>\n",
       "    </tr>\n",
       "  </thead>\n",
       "  <tbody>\n",
       "    <tr>\n",
       "      <th>recency_cltv_weekly</th>\n",
       "      <td>19945.00</td>\n",
       "      <td>95.26</td>\n",
       "      <td>74.59</td>\n",
       "      <td>0.00</td>\n",
       "      <td>50.43</td>\n",
       "      <td>76.57</td>\n",
       "      <td>109.43</td>\n",
       "      <td>433.43</td>\n",
       "    </tr>\n",
       "    <tr>\n",
       "      <th>T_weekly</th>\n",
       "      <td>19945.00</td>\n",
       "      <td>114.47</td>\n",
       "      <td>74.77</td>\n",
       "      <td>0.71</td>\n",
       "      <td>73.86</td>\n",
       "      <td>93.00</td>\n",
       "      <td>119.43</td>\n",
       "      <td>437.14</td>\n",
       "    </tr>\n",
       "    <tr>\n",
       "      <th>frequency</th>\n",
       "      <td>19945.00</td>\n",
       "      <td>4.98</td>\n",
       "      <td>4.12</td>\n",
       "      <td>2.00</td>\n",
       "      <td>3.00</td>\n",
       "      <td>4.00</td>\n",
       "      <td>6.00</td>\n",
       "      <td>57.00</td>\n",
       "    </tr>\n",
       "    <tr>\n",
       "      <th>monetary_cltv_avg</th>\n",
       "      <td>19945.00</td>\n",
       "      <td>152.10</td>\n",
       "      <td>73.52</td>\n",
       "      <td>22.49</td>\n",
       "      <td>103.65</td>\n",
       "      <td>136.91</td>\n",
       "      <td>182.45</td>\n",
       "      <td>1401.80</td>\n",
       "    </tr>\n",
       "  </tbody>\n",
       "</table>\n",
       "</div>"
      ],
      "text/plain": [
       "                       count   mean   std   min    25%    50%    75%     max\n",
       "recency_cltv_weekly 19945.00  95.26 74.59  0.00  50.43  76.57 109.43  433.43\n",
       "T_weekly            19945.00 114.47 74.77  0.71  73.86  93.00 119.43  437.14\n",
       "frequency           19945.00   4.98  4.12  2.00   3.00   4.00   6.00   57.00\n",
       "monetary_cltv_avg   19945.00 152.10 73.52 22.49 103.65 136.91 182.45 1401.80"
      ]
     },
     "execution_count": 49,
     "metadata": {},
     "output_type": "execute_result"
    }
   ],
   "source": [
    "cltv_df.describe().T"
   ]
  },
  {
   "cell_type": "markdown",
   "id": "9958f781-af25-4f9a-805e-82e63790b6b4",
   "metadata": {},
   "source": [
    "# 3. 6 Aylık CLTV Hesaplama"
   ]
  },
  {
   "cell_type": "markdown",
   "id": "bdf41471-bd95-4860-ac7d-6d04341831e2",
   "metadata": {},
   "source": [
    "## BG/NBD Modelleri"
   ]
  },
  {
   "cell_type": "code",
   "execution_count": 52,
   "id": "1bce70db-d139-4cee-8a1f-25b5f93fb254",
   "metadata": {},
   "outputs": [
    {
     "name": "stderr",
     "output_type": "stream",
     "text": [
      "C:\\Users\\snyal\\anaconda3\\Lib\\site-packages\\pandas\\core\\arraylike.py:399: RuntimeWarning: invalid value encountered in sqrt\n",
      "  result = getattr(ufunc, method)(*inputs, **kwargs)\n"
     ]
    },
    {
     "data": {
      "text/plain": [
       "<lifetimes.BetaGeoFitter: fitted with 19945 subjects, a: 0.00, alpha: 76.17, b: 0.00, r: 3.66>"
      ]
     },
     "execution_count": 52,
     "metadata": {},
     "output_type": "execute_result"
    }
   ],
   "source": [
    "bgf = BetaGeoFitter(penalizer_coef=0.001)\n",
    "bgf.fit(cltv_df['frequency'],\n",
    "        cltv_df['recency_cltv_weekly'],\n",
    "        cltv_df['T_weekly'])"
   ]
  },
  {
   "cell_type": "markdown",
   "id": "aa162c84-517c-492a-88c6-e2688c461ff1",
   "metadata": {},
   "source": [
    "## 3 Aylık Tahminler"
   ]
  },
  {
   "cell_type": "code",
   "execution_count": 56,
   "id": "5a684563-afa6-496b-8a53-5aba8e6c6cdd",
   "metadata": {},
   "outputs": [],
   "source": [
    "cltv_df[\"exp_sales_3_month\"] = bgf.predict(4*3,\n",
    "                                       cltv_df['frequency'],\n",
    "                                       cltv_df['recency_cltv_weekly'],\n",
    "                                       cltv_df['T_weekly'])"
   ]
  },
  {
   "cell_type": "code",
   "execution_count": 58,
   "id": "b87ea69a-86b6-408e-a4ab-1541124dd73e",
   "metadata": {},
   "outputs": [
    {
     "data": {
      "text/html": [
       "<div>\n",
       "<style scoped>\n",
       "    .dataframe tbody tr th:only-of-type {\n",
       "        vertical-align: middle;\n",
       "    }\n",
       "\n",
       "    .dataframe tbody tr th {\n",
       "        vertical-align: top;\n",
       "    }\n",
       "\n",
       "    .dataframe thead th {\n",
       "        text-align: right;\n",
       "    }\n",
       "</style>\n",
       "<table border=\"1\" class=\"dataframe\">\n",
       "  <thead>\n",
       "    <tr style=\"text-align: right;\">\n",
       "      <th></th>\n",
       "      <th>customer_id</th>\n",
       "      <th>recency_cltv_weekly</th>\n",
       "      <th>T_weekly</th>\n",
       "      <th>frequency</th>\n",
       "      <th>monetary_cltv_avg</th>\n",
       "      <th>exp_sales_3_month</th>\n",
       "    </tr>\n",
       "  </thead>\n",
       "  <tbody>\n",
       "    <tr>\n",
       "      <th>7330</th>\n",
       "      <td>a4d534a2-5b1b-11eb-8dbd-000d3a38a36f</td>\n",
       "      <td>62.71</td>\n",
       "      <td>67.29</td>\n",
       "      <td>52.00</td>\n",
       "      <td>166.22</td>\n",
       "      <td>4.66</td>\n",
       "    </tr>\n",
       "    <tr>\n",
       "      <th>15611</th>\n",
       "      <td>4a7e875e-e6ce-11ea-8f44-000d3a38a36f</td>\n",
       "      <td>39.71</td>\n",
       "      <td>40.00</td>\n",
       "      <td>29.00</td>\n",
       "      <td>165.30</td>\n",
       "      <td>3.37</td>\n",
       "    </tr>\n",
       "    <tr>\n",
       "      <th>8328</th>\n",
       "      <td>1902bf80-0035-11eb-8341-000d3a38a36f</td>\n",
       "      <td>28.86</td>\n",
       "      <td>33.29</td>\n",
       "      <td>25.00</td>\n",
       "      <td>97.44</td>\n",
       "      <td>3.14</td>\n",
       "    </tr>\n",
       "    <tr>\n",
       "      <th>19538</th>\n",
       "      <td>55d54d9e-8ac7-11ea-8ec0-000d3a38a36f</td>\n",
       "      <td>52.57</td>\n",
       "      <td>58.71</td>\n",
       "      <td>31.00</td>\n",
       "      <td>228.53</td>\n",
       "      <td>3.08</td>\n",
       "    </tr>\n",
       "    <tr>\n",
       "      <th>14373</th>\n",
       "      <td>f00ad516-c4f4-11ea-98f7-000d3a38a36f</td>\n",
       "      <td>38.00</td>\n",
       "      <td>46.43</td>\n",
       "      <td>27.00</td>\n",
       "      <td>141.35</td>\n",
       "      <td>3.00</td>\n",
       "    </tr>\n",
       "    <tr>\n",
       "      <th>10489</th>\n",
       "      <td>7af5cd16-b100-11e9-9757-000d3a38a36f</td>\n",
       "      <td>103.14</td>\n",
       "      <td>111.86</td>\n",
       "      <td>43.00</td>\n",
       "      <td>157.11</td>\n",
       "      <td>2.98</td>\n",
       "    </tr>\n",
       "    <tr>\n",
       "      <th>4315</th>\n",
       "      <td>d5ef8058-a5c6-11e9-a2fc-000d3a38a36f</td>\n",
       "      <td>133.14</td>\n",
       "      <td>147.14</td>\n",
       "      <td>49.00</td>\n",
       "      <td>161.85</td>\n",
       "      <td>2.83</td>\n",
       "    </tr>\n",
       "    <tr>\n",
       "      <th>6756</th>\n",
       "      <td>27310582-6362-11ea-a6dc-000d3a38a36f</td>\n",
       "      <td>62.71</td>\n",
       "      <td>64.14</td>\n",
       "      <td>29.00</td>\n",
       "      <td>168.88</td>\n",
       "      <td>2.79</td>\n",
       "    </tr>\n",
       "    <tr>\n",
       "      <th>6666</th>\n",
       "      <td>53fe00d4-7b7a-11eb-960b-000d3a38a36f</td>\n",
       "      <td>9.71</td>\n",
       "      <td>13.00</td>\n",
       "      <td>17.00</td>\n",
       "      <td>259.87</td>\n",
       "      <td>2.78</td>\n",
       "    </tr>\n",
       "    <tr>\n",
       "      <th>10536</th>\n",
       "      <td>e143b6fa-d6f8-11e9-93bc-000d3a38a36f</td>\n",
       "      <td>104.57</td>\n",
       "      <td>113.43</td>\n",
       "      <td>40.00</td>\n",
       "      <td>176.20</td>\n",
       "      <td>2.76</td>\n",
       "    </tr>\n",
       "  </tbody>\n",
       "</table>\n",
       "</div>"
      ],
      "text/plain": [
       "                                customer_id  recency_cltv_weekly  T_weekly  \\\n",
       "7330   a4d534a2-5b1b-11eb-8dbd-000d3a38a36f                62.71     67.29   \n",
       "15611  4a7e875e-e6ce-11ea-8f44-000d3a38a36f                39.71     40.00   \n",
       "8328   1902bf80-0035-11eb-8341-000d3a38a36f                28.86     33.29   \n",
       "19538  55d54d9e-8ac7-11ea-8ec0-000d3a38a36f                52.57     58.71   \n",
       "14373  f00ad516-c4f4-11ea-98f7-000d3a38a36f                38.00     46.43   \n",
       "10489  7af5cd16-b100-11e9-9757-000d3a38a36f               103.14    111.86   \n",
       "4315   d5ef8058-a5c6-11e9-a2fc-000d3a38a36f               133.14    147.14   \n",
       "6756   27310582-6362-11ea-a6dc-000d3a38a36f                62.71     64.14   \n",
       "6666   53fe00d4-7b7a-11eb-960b-000d3a38a36f                 9.71     13.00   \n",
       "10536  e143b6fa-d6f8-11e9-93bc-000d3a38a36f               104.57    113.43   \n",
       "\n",
       "       frequency  monetary_cltv_avg  exp_sales_3_month  \n",
       "7330       52.00             166.22               4.66  \n",
       "15611      29.00             165.30               3.37  \n",
       "8328       25.00              97.44               3.14  \n",
       "19538      31.00             228.53               3.08  \n",
       "14373      27.00             141.35               3.00  \n",
       "10489      43.00             157.11               2.98  \n",
       "4315       49.00             161.85               2.83  \n",
       "6756       29.00             168.88               2.79  \n",
       "6666       17.00             259.87               2.78  \n",
       "10536      40.00             176.20               2.76  "
      ]
     },
     "execution_count": 58,
     "metadata": {},
     "output_type": "execute_result"
    }
   ],
   "source": [
    "cltv_df.sort_values(\"exp_sales_3_month\",ascending=False)[:10]"
   ]
  },
  {
   "cell_type": "markdown",
   "id": "98f05755-0fe8-473f-ae9b-361fe437dcaf",
   "metadata": {},
   "source": [
    "## 6 Aylık Tahminler"
   ]
  },
  {
   "cell_type": "code",
   "execution_count": 61,
   "id": "8c2203a0-cae1-480a-8e10-273bf748d57a",
   "metadata": {},
   "outputs": [],
   "source": [
    "cltv_df[\"exp_sales_6_month\"] = bgf.predict(4*6,\n",
    "                                       cltv_df['frequency'],\n",
    "                                       cltv_df['recency_cltv_weekly'],\n",
    "                                       cltv_df['T_weekly'])"
   ]
  },
  {
   "cell_type": "code",
   "execution_count": 63,
   "id": "13e84ea9-a713-47de-9d65-465c00614909",
   "metadata": {},
   "outputs": [
    {
     "data": {
      "text/html": [
       "<div>\n",
       "<style scoped>\n",
       "    .dataframe tbody tr th:only-of-type {\n",
       "        vertical-align: middle;\n",
       "    }\n",
       "\n",
       "    .dataframe tbody tr th {\n",
       "        vertical-align: top;\n",
       "    }\n",
       "\n",
       "    .dataframe thead th {\n",
       "        text-align: right;\n",
       "    }\n",
       "</style>\n",
       "<table border=\"1\" class=\"dataframe\">\n",
       "  <thead>\n",
       "    <tr style=\"text-align: right;\">\n",
       "      <th></th>\n",
       "      <th>customer_id</th>\n",
       "      <th>recency_cltv_weekly</th>\n",
       "      <th>T_weekly</th>\n",
       "      <th>frequency</th>\n",
       "      <th>monetary_cltv_avg</th>\n",
       "      <th>exp_sales_3_month</th>\n",
       "      <th>exp_sales_6_month</th>\n",
       "    </tr>\n",
       "  </thead>\n",
       "  <tbody>\n",
       "    <tr>\n",
       "      <th>7330</th>\n",
       "      <td>a4d534a2-5b1b-11eb-8dbd-000d3a38a36f</td>\n",
       "      <td>62.71</td>\n",
       "      <td>67.29</td>\n",
       "      <td>52.00</td>\n",
       "      <td>166.22</td>\n",
       "      <td>4.66</td>\n",
       "      <td>9.31</td>\n",
       "    </tr>\n",
       "    <tr>\n",
       "      <th>15611</th>\n",
       "      <td>4a7e875e-e6ce-11ea-8f44-000d3a38a36f</td>\n",
       "      <td>39.71</td>\n",
       "      <td>40.00</td>\n",
       "      <td>29.00</td>\n",
       "      <td>165.30</td>\n",
       "      <td>3.37</td>\n",
       "      <td>6.75</td>\n",
       "    </tr>\n",
       "    <tr>\n",
       "      <th>8328</th>\n",
       "      <td>1902bf80-0035-11eb-8341-000d3a38a36f</td>\n",
       "      <td>28.86</td>\n",
       "      <td>33.29</td>\n",
       "      <td>25.00</td>\n",
       "      <td>97.44</td>\n",
       "      <td>3.14</td>\n",
       "      <td>6.28</td>\n",
       "    </tr>\n",
       "    <tr>\n",
       "      <th>19538</th>\n",
       "      <td>55d54d9e-8ac7-11ea-8ec0-000d3a38a36f</td>\n",
       "      <td>52.57</td>\n",
       "      <td>58.71</td>\n",
       "      <td>31.00</td>\n",
       "      <td>228.53</td>\n",
       "      <td>3.08</td>\n",
       "      <td>6.17</td>\n",
       "    </tr>\n",
       "    <tr>\n",
       "      <th>14373</th>\n",
       "      <td>f00ad516-c4f4-11ea-98f7-000d3a38a36f</td>\n",
       "      <td>38.00</td>\n",
       "      <td>46.43</td>\n",
       "      <td>27.00</td>\n",
       "      <td>141.35</td>\n",
       "      <td>3.00</td>\n",
       "      <td>6.00</td>\n",
       "    </tr>\n",
       "    <tr>\n",
       "      <th>10489</th>\n",
       "      <td>7af5cd16-b100-11e9-9757-000d3a38a36f</td>\n",
       "      <td>103.14</td>\n",
       "      <td>111.86</td>\n",
       "      <td>43.00</td>\n",
       "      <td>157.11</td>\n",
       "      <td>2.98</td>\n",
       "      <td>5.96</td>\n",
       "    </tr>\n",
       "    <tr>\n",
       "      <th>4315</th>\n",
       "      <td>d5ef8058-a5c6-11e9-a2fc-000d3a38a36f</td>\n",
       "      <td>133.14</td>\n",
       "      <td>147.14</td>\n",
       "      <td>49.00</td>\n",
       "      <td>161.85</td>\n",
       "      <td>2.83</td>\n",
       "      <td>5.66</td>\n",
       "    </tr>\n",
       "    <tr>\n",
       "      <th>6756</th>\n",
       "      <td>27310582-6362-11ea-a6dc-000d3a38a36f</td>\n",
       "      <td>62.71</td>\n",
       "      <td>64.14</td>\n",
       "      <td>29.00</td>\n",
       "      <td>168.88</td>\n",
       "      <td>2.79</td>\n",
       "      <td>5.59</td>\n",
       "    </tr>\n",
       "    <tr>\n",
       "      <th>6666</th>\n",
       "      <td>53fe00d4-7b7a-11eb-960b-000d3a38a36f</td>\n",
       "      <td>9.71</td>\n",
       "      <td>13.00</td>\n",
       "      <td>17.00</td>\n",
       "      <td>259.87</td>\n",
       "      <td>2.78</td>\n",
       "      <td>5.56</td>\n",
       "    </tr>\n",
       "    <tr>\n",
       "      <th>10536</th>\n",
       "      <td>e143b6fa-d6f8-11e9-93bc-000d3a38a36f</td>\n",
       "      <td>104.57</td>\n",
       "      <td>113.43</td>\n",
       "      <td>40.00</td>\n",
       "      <td>176.20</td>\n",
       "      <td>2.76</td>\n",
       "      <td>5.53</td>\n",
       "    </tr>\n",
       "  </tbody>\n",
       "</table>\n",
       "</div>"
      ],
      "text/plain": [
       "                                customer_id  recency_cltv_weekly  T_weekly  \\\n",
       "7330   a4d534a2-5b1b-11eb-8dbd-000d3a38a36f                62.71     67.29   \n",
       "15611  4a7e875e-e6ce-11ea-8f44-000d3a38a36f                39.71     40.00   \n",
       "8328   1902bf80-0035-11eb-8341-000d3a38a36f                28.86     33.29   \n",
       "19538  55d54d9e-8ac7-11ea-8ec0-000d3a38a36f                52.57     58.71   \n",
       "14373  f00ad516-c4f4-11ea-98f7-000d3a38a36f                38.00     46.43   \n",
       "10489  7af5cd16-b100-11e9-9757-000d3a38a36f               103.14    111.86   \n",
       "4315   d5ef8058-a5c6-11e9-a2fc-000d3a38a36f               133.14    147.14   \n",
       "6756   27310582-6362-11ea-a6dc-000d3a38a36f                62.71     64.14   \n",
       "6666   53fe00d4-7b7a-11eb-960b-000d3a38a36f                 9.71     13.00   \n",
       "10536  e143b6fa-d6f8-11e9-93bc-000d3a38a36f               104.57    113.43   \n",
       "\n",
       "       frequency  monetary_cltv_avg  exp_sales_3_month  exp_sales_6_month  \n",
       "7330       52.00             166.22               4.66               9.31  \n",
       "15611      29.00             165.30               3.37               6.75  \n",
       "8328       25.00              97.44               3.14               6.28  \n",
       "19538      31.00             228.53               3.08               6.17  \n",
       "14373      27.00             141.35               3.00               6.00  \n",
       "10489      43.00             157.11               2.98               5.96  \n",
       "4315       49.00             161.85               2.83               5.66  \n",
       "6756       29.00             168.88               2.79               5.59  \n",
       "6666       17.00             259.87               2.78               5.56  \n",
       "10536      40.00             176.20               2.76               5.53  "
      ]
     },
     "execution_count": 63,
     "metadata": {},
     "output_type": "execute_result"
    }
   ],
   "source": [
    "cltv_df.sort_values(\"exp_sales_6_month\",ascending=False)[:10]"
   ]
  },
  {
   "cell_type": "markdown",
   "id": "1a7f78dc-aa1f-445f-9caa-8800cd7891ec",
   "metadata": {},
   "source": [
    "## Gamma-Gamma Modeli"
   ]
  },
  {
   "cell_type": "code",
   "execution_count": 70,
   "id": "3db6031d-6bba-4465-aaaf-344617c82f88",
   "metadata": {},
   "outputs": [],
   "source": [
    "ggf = GammaGammaFitter(penalizer_coef=0.01)"
   ]
  },
  {
   "cell_type": "code",
   "execution_count": 72,
   "id": "69d7eb83-a0e4-4332-a9b7-31300114c467",
   "metadata": {},
   "outputs": [
    {
     "data": {
      "text/plain": [
       "<lifetimes.GammaGammaFitter: fitted with 19945 subjects, p: 4.15, q: 0.47, v: 4.08>"
      ]
     },
     "execution_count": 72,
     "metadata": {},
     "output_type": "execute_result"
    }
   ],
   "source": [
    "ggf.fit(cltv_df['frequency'], cltv_df['monetary_cltv_avg'])"
   ]
  },
  {
   "cell_type": "code",
   "execution_count": 74,
   "id": "713712f6-4800-4f4c-946b-336666586555",
   "metadata": {},
   "outputs": [],
   "source": [
    "cltv_df[\"exp_average_value\"] = ggf.conditional_expected_average_profit(cltv_df['frequency'],\n",
    "                                                                cltv_df['monetary_cltv_avg'])"
   ]
  },
  {
   "cell_type": "markdown",
   "id": "8b3da235-af11-41b2-a244-3a1dee69aa98",
   "metadata": {},
   "source": [
    "### 6 aylık tahminler"
   ]
  },
  {
   "cell_type": "code",
   "execution_count": 77,
   "id": "4940e1a4-bd27-42f9-b88d-a017251908a6",
   "metadata": {},
   "outputs": [],
   "source": [
    "cltv = ggf.customer_lifetime_value(bgf,\n",
    "                                   cltv_df['frequency'],\n",
    "                                   cltv_df['recency_cltv_weekly'],\n",
    "                                   cltv_df['T_weekly'],\n",
    "                                   cltv_df['monetary_cltv_avg'],\n",
    "                                   time=6,\n",
    "                                   freq=\"W\",\n",
    "                                   discount_rate=0.01)"
   ]
  },
  {
   "cell_type": "code",
   "execution_count": 79,
   "id": "34b01a55-3786-47cb-8f0d-29415ea30784",
   "metadata": {},
   "outputs": [],
   "source": [
    "cltv_df[\"cltv\"] = cltv"
   ]
  },
  {
   "cell_type": "code",
   "execution_count": 88,
   "id": "05f0c264-8f33-4907-a6f4-fe1e905b9db3",
   "metadata": {},
   "outputs": [
    {
     "name": "stdout",
     "output_type": "stream",
     "text": [
      "<class 'pandas.core.frame.DataFrame'>\n",
      "RangeIndex: 19945 entries, 0 to 19944\n",
      "Data columns (total 10 columns):\n",
      " #   Column               Non-Null Count  Dtype   \n",
      "---  ------               --------------  -----   \n",
      " 0   customer_id          19945 non-null  object  \n",
      " 1   recency_cltv_weekly  19945 non-null  float64 \n",
      " 2   T_weekly             19945 non-null  float64 \n",
      " 3   frequency            19945 non-null  float64 \n",
      " 4   monetary_cltv_avg    19945 non-null  float64 \n",
      " 5   exp_sales_3_month    19945 non-null  float64 \n",
      " 6   exp_sales_6_month    19945 non-null  float64 \n",
      " 7   exp_average_value    19945 non-null  float64 \n",
      " 8   cltv                 19945 non-null  float64 \n",
      " 9   cltv_segment         19945 non-null  category\n",
      "dtypes: category(1), float64(8), object(1)\n",
      "memory usage: 1.4+ MB\n"
     ]
    }
   ],
   "source": [
    "cltv_df.info()"
   ]
  },
  {
   "cell_type": "code",
   "execution_count": 83,
   "id": "7e14fafa-0152-46f1-82c3-4e9fdc99665d",
   "metadata": {},
   "outputs": [
    {
     "data": {
      "text/html": [
       "<div>\n",
       "<style scoped>\n",
       "    .dataframe tbody tr th:only-of-type {\n",
       "        vertical-align: middle;\n",
       "    }\n",
       "\n",
       "    .dataframe tbody tr th {\n",
       "        vertical-align: top;\n",
       "    }\n",
       "\n",
       "    .dataframe thead th {\n",
       "        text-align: right;\n",
       "    }\n",
       "</style>\n",
       "<table border=\"1\" class=\"dataframe\">\n",
       "  <thead>\n",
       "    <tr style=\"text-align: right;\">\n",
       "      <th></th>\n",
       "      <th>count</th>\n",
       "      <th>mean</th>\n",
       "      <th>std</th>\n",
       "      <th>min</th>\n",
       "      <th>25%</th>\n",
       "      <th>50%</th>\n",
       "      <th>75%</th>\n",
       "      <th>max</th>\n",
       "    </tr>\n",
       "  </thead>\n",
       "  <tbody>\n",
       "    <tr>\n",
       "      <th>recency_cltv_weekly</th>\n",
       "      <td>19945.00</td>\n",
       "      <td>95.26</td>\n",
       "      <td>74.59</td>\n",
       "      <td>0.00</td>\n",
       "      <td>50.43</td>\n",
       "      <td>76.57</td>\n",
       "      <td>109.43</td>\n",
       "      <td>433.43</td>\n",
       "    </tr>\n",
       "    <tr>\n",
       "      <th>T_weekly</th>\n",
       "      <td>19945.00</td>\n",
       "      <td>114.47</td>\n",
       "      <td>74.77</td>\n",
       "      <td>0.71</td>\n",
       "      <td>73.86</td>\n",
       "      <td>93.00</td>\n",
       "      <td>119.43</td>\n",
       "      <td>437.14</td>\n",
       "    </tr>\n",
       "    <tr>\n",
       "      <th>frequency</th>\n",
       "      <td>19945.00</td>\n",
       "      <td>4.98</td>\n",
       "      <td>4.12</td>\n",
       "      <td>2.00</td>\n",
       "      <td>3.00</td>\n",
       "      <td>4.00</td>\n",
       "      <td>6.00</td>\n",
       "      <td>57.00</td>\n",
       "    </tr>\n",
       "    <tr>\n",
       "      <th>monetary_cltv_avg</th>\n",
       "      <td>19945.00</td>\n",
       "      <td>152.10</td>\n",
       "      <td>73.52</td>\n",
       "      <td>22.49</td>\n",
       "      <td>103.65</td>\n",
       "      <td>136.91</td>\n",
       "      <td>182.45</td>\n",
       "      <td>1401.80</td>\n",
       "    </tr>\n",
       "    <tr>\n",
       "      <th>exp_sales_3_month</th>\n",
       "      <td>19945.00</td>\n",
       "      <td>0.58</td>\n",
       "      <td>0.23</td>\n",
       "      <td>0.15</td>\n",
       "      <td>0.43</td>\n",
       "      <td>0.54</td>\n",
       "      <td>0.67</td>\n",
       "      <td>4.66</td>\n",
       "    </tr>\n",
       "    <tr>\n",
       "      <th>exp_sales_6_month</th>\n",
       "      <td>19945.00</td>\n",
       "      <td>1.15</td>\n",
       "      <td>0.46</td>\n",
       "      <td>0.30</td>\n",
       "      <td>0.87</td>\n",
       "      <td>1.07</td>\n",
       "      <td>1.34</td>\n",
       "      <td>9.31</td>\n",
       "    </tr>\n",
       "    <tr>\n",
       "      <th>exp_average_value</th>\n",
       "      <td>19945.00</td>\n",
       "      <td>159.24</td>\n",
       "      <td>77.02</td>\n",
       "      <td>25.08</td>\n",
       "      <td>108.77</td>\n",
       "      <td>142.92</td>\n",
       "      <td>190.45</td>\n",
       "      <td>1449.06</td>\n",
       "    </tr>\n",
       "    <tr>\n",
       "      <th>cltv</th>\n",
       "      <td>19945.00</td>\n",
       "      <td>195.12</td>\n",
       "      <td>132.88</td>\n",
       "      <td>12.11</td>\n",
       "      <td>112.25</td>\n",
       "      <td>165.47</td>\n",
       "      <td>240.06</td>\n",
       "      <td>3327.78</td>\n",
       "    </tr>\n",
       "  </tbody>\n",
       "</table>\n",
       "</div>"
      ],
      "text/plain": [
       "                       count   mean    std   min    25%    50%    75%     max\n",
       "recency_cltv_weekly 19945.00  95.26  74.59  0.00  50.43  76.57 109.43  433.43\n",
       "T_weekly            19945.00 114.47  74.77  0.71  73.86  93.00 119.43  437.14\n",
       "frequency           19945.00   4.98   4.12  2.00   3.00   4.00   6.00   57.00\n",
       "monetary_cltv_avg   19945.00 152.10  73.52 22.49 103.65 136.91 182.45 1401.80\n",
       "exp_sales_3_month   19945.00   0.58   0.23  0.15   0.43   0.54   0.67    4.66\n",
       "exp_sales_6_month   19945.00   1.15   0.46  0.30   0.87   1.07   1.34    9.31\n",
       "exp_average_value   19945.00 159.24  77.02 25.08 108.77 142.92 190.45 1449.06\n",
       "cltv                19945.00 195.12 132.88 12.11 112.25 165.47 240.06 3327.78"
      ]
     },
     "execution_count": 83,
     "metadata": {},
     "output_type": "execute_result"
    }
   ],
   "source": [
    "cltv_df.describe().T"
   ]
  },
  {
   "cell_type": "markdown",
   "id": "6d4de995-47aa-4d42-95aa-82e15a7e2be8",
   "metadata": {},
   "source": [
    "## Segmentasyon"
   ]
  },
  {
   "cell_type": "code",
   "execution_count": 86,
   "id": "b0a682d7-5036-4a0c-83ad-57227ea9f473",
   "metadata": {},
   "outputs": [],
   "source": [
    "cltv_df[\"cltv_segment\"] = pd.qcut(cltv_df[\"cltv\"], 4, labels=[\"D\", \"C\", \"B\", \"A\"])"
   ]
  },
  {
   "cell_type": "code",
   "execution_count": 90,
   "id": "af37bf48-7863-499a-96f1-4fad1acca540",
   "metadata": {},
   "outputs": [],
   "source": [
    "import numpy as np"
   ]
  },
  {
   "cell_type": "code",
   "execution_count": 96,
   "id": "25a3f657-ff77-49c2-9abf-9d592f07346c",
   "metadata": {},
   "outputs": [
    {
     "data": {
      "text/plain": [
       "count     19945\n",
       "unique        4\n",
       "top           D\n",
       "freq       4987\n",
       "Name: cltv_segment, dtype: object"
      ]
     },
     "execution_count": 96,
     "metadata": {},
     "output_type": "execute_result"
    }
   ],
   "source": [
    "cltv_df[\"cltv_segment\"].describe()"
   ]
  },
  {
   "cell_type": "code",
   "execution_count": 98,
   "id": "b19f24bd-1209-44a6-8670-2b7f01c220af",
   "metadata": {},
   "outputs": [
    {
     "data": {
      "text/plain": [
       "cltv_segment\n",
       "D    4987\n",
       "C    4986\n",
       "B    4986\n",
       "A    4986\n",
       "Name: count, dtype: int64"
      ]
     },
     "execution_count": 98,
     "metadata": {},
     "output_type": "execute_result"
    }
   ],
   "source": [
    "cltv_df[\"cltv_segment\"].value_counts()"
   ]
  },
  {
   "cell_type": "code",
   "execution_count": null,
   "id": "e49950a2-b109-42c0-a08e-615fa2042bfc",
   "metadata": {},
   "outputs": [],
   "source": []
  }
 ],
 "metadata": {
  "kernelspec": {
   "display_name": "Python [conda env:base] *",
   "language": "python",
   "name": "conda-base-py"
  },
  "language_info": {
   "codemirror_mode": {
    "name": "ipython",
    "version": 3
   },
   "file_extension": ".py",
   "mimetype": "text/x-python",
   "name": "python",
   "nbconvert_exporter": "python",
   "pygments_lexer": "ipython3",
   "version": "3.12.7"
  }
 },
 "nbformat": 4,
 "nbformat_minor": 5
}
